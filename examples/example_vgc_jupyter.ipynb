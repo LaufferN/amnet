{
 "cells": [
  {
   "cell_type": "code",
   "execution_count": 11,
   "metadata": {
    "collapsed": true
   },
   "outputs": [],
   "source": [
    "%matplotlib inline \n",
    "\n",
    "from __future__ import division\n",
    "\n",
    "import sys\n",
    "if '../' not in sys.path: sys.path.append(\"../\")\n",
    "\n",
    "import numpy as np\n",
    "import amnet\n",
    "import control \n",
    "\n",
    "import matplotlib\n",
    "import matplotlib.pyplot as plt\n",
    "\n",
    "from scipy.interpolate import interp1d"
   ]
  },
  {
   "cell_type": "code",
   "execution_count": null,
   "metadata": {
    "collapsed": true
   },
   "outputs": [],
   "source": [
    "def make_vgc(alpha):\n",
    "    # inputs\n",
    "    e_var = amnet.Variable(1, name='e')\n",
    "    edot_var = amnet.Variable(1, name='edot')\n",
    "    x = amnet.stack(e_var, edot_var)\n",
    "\n",
    "    # affine transformations\n",
    "    zero1 = amnet.atoms.make_const(np.zeros(1), x)\n",
    "    ae    = amnet.AffineTransformation(np.array([[alpha, 0]]), x, np.zeros(1))\n",
    "    e     = amnet.AffineTransformation(np.array([[1, 0]]), x, np.zeros(1))\n",
    "    neg_e = amnet.AffineTransformation(np.array([[-1, 0]]), x, np.zeros(1))\n",
    "    edot  = amnet.AffineTransformation(np.array([[0, 1]]), x, np.zeros(1))\n",
    "    neg_edot = amnet.AffineTransformation(np.array([[0, -1]]), x, np.zeros(1))\n",
    "\n",
    "    return amnet.atoms.make_or(\n",
    "        amnet.atoms.make_or(\n",
    "            zero1,\n",
    "            ae,\n",
    "            neg_e,\n",
    "            neg_edot\n",
    "        ),\n",
    "        ae,\n",
    "        e,\n",
    "        edot\n",
    "    )\n",
    "\n",
    "\n",
    "def true_vgc(e, edot, alpha):\n",
    "    if e * edot > 0:\n",
    "        return alpha * e\n",
    "    else:\n",
    "        return 0\n",
    "\n",
    "\n",
    "def test_vgc():\n",
    "    alpha = 1.1\n",
    "    phi_vgc = make_vgc(alpha)\n",
    "\n",
    "    # test that true_vgc and test_vgc return the same evaluation\n",
    "    for e in np.linspace(-2,2,12):\n",
    "        for edot in np.linspace(-2,2,12):\n",
    "            val1 = phi_vgc.eval(np.array([e, edot]))\n",
    "            val2 = true_vgc(e, edot, alpha)\n",
    "            if abs(val1 - val2) > 1e-10:\n",
    "                print 'FAIL: (e,edot) = (%e, %e), val1=%e, val2=%e' % (e, edot, val1, val2)\n",
    "\n",
    "test_vgc()"
   ]
  },
  {
   "cell_type": "code",
   "execution_count": 42,
   "metadata": {},
   "outputs": [
    {
     "data": {
      "image/png": "[encoded data removed]",
      "text/plain": [
       "<matplotlib.figure.Figure at 0x110ef4290>"
      ]
     },
     "metadata": {},
     "output_type": "display_data"
    }
   ],
   "source": [
    "# plant transfer function\n",
    "p = 1.0\n",
    "P_tf = control.tf([0.05, 1.0], [1.0, -p]) * (control.tf([1], [0.01, 1.0]) ** 2)\n",
    "\n",
    "# linear controller transfer function\n",
    "k_p = 4.0\n",
    "f_lp = 10.0\n",
    "beta_lp = 0.7\n",
    "f_i = 0.5\n",
    "C_tf = k_p * control.tf([1.0, 2.0*np.pi*f_i], [1.0, 0.0]) * control.tf([1.0], [1.0/(2*np.pi*f_lp)**2, (2.0*beta_lp)/(2*np.pi*f_lp), 1.0])\n",
    "\n",
    "# plot closed loop response\n",
    "P_ye = control.feedback(P_tf * C_tf, 1)\n",
    "ts, ys = control.step_response(P_ye)\n",
    "plt.plot(ts, ys)\n",
    "plt.xlabel('time (s)')\n",
    "plt.ylabel('output (y)')\n",
    "plt.grid(True)"
   ]
  },
  {
   "cell_type": "code",
   "execution_count": 44,
   "metadata": {},
   "outputs": [
    {
     "name": "stdout",
     "output_type": "stream",
     "text": [
      "0.169094768275\n"
     ]
    },
    {
     "data": {
      "image/png": "[encoded data removed]",
      "text/plain": [
       "<matplotlib.figure.Figure at 0x1114e8390>"
      ]
     },
     "metadata": {},
     "output_type": "display_data"
    }
   ],
   "source": [
    "# compute rise time and overshoot minimum\n",
    "sfun = interp1d(ts, ys, kind='cubic')\n",
    "#tr = 0.23 # computed by me\n",
    "tr = 0.28 # Hunnekens, et al. (2016)\n",
    "plt.plot(ts, sfun(ts)-ts/tr)\n",
    "plt.grid(True)\n",
    "axes = plt.gca()\n",
    "axes.set_ylim([-1.0, 1.0])\n",
    "axes.set_xlim([0., 1.])\n",
    "\n",
    "yos_min = ((p*tr - 1.)*np.exp(p*tr) + 1.)/(p*tr)\n",
    "print yos_min"
   ]
  }
 ],
 "metadata": {
  "kernelspec": {
   "display_name": "Python 2",
   "language": "python",
   "name": "python2"
  },
  "language_info": {
   "codemirror_mode": {
    "name": "ipython",
    "version": 2
   },
   "file_extension": ".py",
   "mimetype": "text/x-python",
   "name": "python",
   "nbconvert_exporter": "python",
   "pygments_lexer": "ipython2",
   "version": "2.7.13"
  }
 },
 "nbformat": 4,
 "nbformat_minor": 1
}
