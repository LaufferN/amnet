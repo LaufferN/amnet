{
 "cells": [
  {
   "cell_type": "code",
   "execution_count": 1,
   "metadata": {
    "collapsed": true
   },
   "outputs": [],
   "source": [
    "%matplotlib inline \n",
    "\n",
    "from __future__ import division\n",
    "\n",
    "import sys\n",
    "if '../' not in sys.path: sys.path.append(\"../\")\n",
    "\n",
    "import numpy as np\n",
    "import amnet\n",
    "import control \n",
    "\n",
    "import matplotlib\n",
    "import matplotlib.pyplot as plt\n",
    "\n",
    "from scipy.interpolate import interp1d"
   ]
  },
  {
   "cell_type": "code",
   "execution_count": 2,
   "metadata": {
    "collapsed": true
   },
   "outputs": [],
   "source": [
    "def make_vgc(alpha):\n",
    "    # inputs\n",
    "    e_var = amnet.Variable(1, name='e')\n",
    "    edot_var = amnet.Variable(1, name='edot')\n",
    "    x = amnet.stack(e_var, edot_var)\n",
    "\n",
    "    # affine transformations\n",
    "    zero1 = amnet.atoms.make_const(np.zeros(1), x)\n",
    "    ae    = amnet.AffineTransformation(np.array([[alpha, 0]]), x, np.zeros(1))\n",
    "    e     = amnet.AffineTransformation(np.array([[1, 0]]), x, np.zeros(1))\n",
    "    neg_e = amnet.AffineTransformation(np.array([[-1, 0]]), x, np.zeros(1))\n",
    "    edot  = amnet.AffineTransformation(np.array([[0, 1]]), x, np.zeros(1))\n",
    "    neg_edot = amnet.AffineTransformation(np.array([[0, -1]]), x, np.zeros(1))\n",
    "\n",
    "    return amnet.atoms.make_or(\n",
    "        amnet.atoms.make_or(\n",
    "            zero1,\n",
    "            ae,\n",
    "            neg_e,\n",
    "            neg_edot\n",
    "        ),\n",
    "        ae,\n",
    "        e,\n",
    "        edot\n",
    "    )\n",
    "\n",
    "\n",
    "def true_vgc(e, edot, alpha):\n",
    "    if e * edot > 0:\n",
    "        return alpha * e\n",
    "    else:\n",
    "        return 0\n",
    "\n",
    "\n",
    "def test_vgc():\n",
    "    alpha = 1.1\n",
    "    phi_vgc = make_vgc(alpha)\n",
    "\n",
    "    # test that true_vgc and test_vgc return the same evaluation\n",
    "    for e in np.linspace(-2,2,12):\n",
    "        for edot in np.linspace(-2,2,12):\n",
    "            val1 = phi_vgc.eval(np.array([e, edot]))\n",
    "            val2 = true_vgc(e, edot, alpha)\n",
    "            if abs(val1 - val2) > 1e-10:\n",
    "                print 'FAIL: (e,edot) = (%e, %e), val1=%e, val2=%e' % (e, edot, val1, val2)\n",
    "\n",
    "test_vgc()"
   ]
  },
  {
   "cell_type": "code",
   "execution_count": 3,
   "metadata": {},
   "outputs": [
    {
     "data": {
      "image/png": "[encoded data removed]",
      "text/plain": [
       "<matplotlib.figure.Figure at 0x102840fd0>"
      ]
     },
     "metadata": {},
     "output_type": "display_data"
    }
   ],
   "source": [
    "# plant transfer function\n",
    "p = 1.0\n",
    "P_tf = control.tf([0.05, 1.0], [1.0, -p]) * (control.tf([1], [0.01, 1.0]) ** 2)\n",
    "\n",
    "# linear controller transfer function\n",
    "k_p = 4.0\n",
    "f_lp = 10.0\n",
    "beta_lp = 0.7\n",
    "f_i = 0.5\n",
    "C_tf = k_p * control.tf([1.0, 2.0*np.pi*f_i], [1.0, 0.0]) * control.tf([1.0], [1.0/(2*np.pi*f_lp)**2, (2.0*beta_lp)/(2*np.pi*f_lp), 1.0])\n",
    "\n",
    "# plot closed loop response\n",
    "P_yr = control.feedback(P_tf * C_tf, 1)\n",
    "ts = np.linspace(0, 5, 10000)\n",
    "_, ys = control.step_response(P_yr, T=ts)\n",
    "plt.plot(ts, ys)\n",
    "plt.xlabel('time (s)')\n",
    "plt.ylabel('output (y)')\n",
    "plt.grid(True)"
   ]
  },
  {
   "cell_type": "code",
   "execution_count": 4,
   "metadata": {},
   "outputs": [
    {
     "name": "stdout",
     "output_type": "stream",
     "text": [
      "0.134252140671\n"
     ]
    },
    {
     "data": {
      "image/png": "[encoded data removed]",
      "text/plain": [
       "<matplotlib.figure.Figure at 0x105cabe10>"
      ]
     },
     "metadata": {},
     "output_type": "display_data"
    }
   ],
   "source": [
    "# compute rise time and overshoot minimum\n",
    "sfun = interp1d(ts, ys, kind='cubic')\n",
    "tr = 0.23 # computed by me\n",
    "#tr = 0.28 # Hunnekens, et al. (2016)\n",
    "plt.plot(ts, sfun(ts)-ts/tr)\n",
    "plt.grid(True)\n",
    "axes = plt.gca()\n",
    "axes.set_ylim([-1.0, 1.0])\n",
    "axes.set_xlim([0., 1.])\n",
    "\n",
    "yos_min = ((p*tr - 1.)*np.exp(p*tr) + 1.)/(p*tr)\n",
    "print yos_min"
   ]
  },
  {
   "cell_type": "code",
   "execution_count": 12,
   "metadata": {},
   "outputs": [
    {
     "data": {
      "text/plain": [
       "(0, 1.6)"
      ]
     },
     "execution_count": 12,
     "metadata": {},
     "output_type": "execute_result"
    },
    {
     "data": {
      "image/png": "[encoded data removed]",
      "text/plain": [
       "<matplotlib.figure.Figure at 0x1064f5d10>"
      ]
     },
     "metadata": {},
     "output_type": "display_data"
    }
   ],
   "source": [
    "# convert loop transfer function to discrete time\n",
    "dt = 0.001\n",
    "alpha = 7\n",
    "#A, B, C, D = control.ssdata(control.sample_system(P_tf * C_tf, Ts=dt, method='zoh'))\n",
    "A = np.genfromtxt('vgc_A.csv', delimiter=',').reshape((6,6))\n",
    "B = np.genfromtxt('vgc_B.csv', delimiter=',').reshape((6,1))\n",
    "C = np.genfromtxt('vgc_C.csv', delimiter=',').reshape((1,6))\n",
    "D = np.genfromtxt('vgc_D.csv', delimiter=',').reshape((1,1))\n",
    "\n",
    "n_L, m_L = B.shape\n",
    "n = n_L + 1\n",
    "assert m_L == 1\n",
    "assert D == 0\n",
    "\n",
    "# state update equation\n",
    "def f(x, e, alpha, dt):\n",
    "    # state is x = (x_vgc, x_L) in R x R^n_L\n",
    "    n = len(x)\n",
    "    assert n == 1 + n_L\n",
    "    assert len(e) == 1\n",
    "    \n",
    "    # unpack state components\n",
    "    x_vgc = np.dot(np.eye(1,n,0), x)\n",
    "    x_L = np.dot(np.eye(n-1,n,1), x)\n",
    "    \n",
    "    # estimate derivative and apply nonlinearity\n",
    "    edot = 1.0/dt * (e - x_vgc)\n",
    "    #e_vgc = true_vgc(e, edot, alpha) + e\n",
    "    e_vgc = true_vgc(e, e - x_vgc, alpha) + e  # since the value of edot is not actually used\n",
    "    \n",
    "    # calculate next state\n",
    "    x_vgc_next = e\n",
    "    x_L_next = np.dot(A, x_L) + np.dot(B, e_vgc)\n",
    "    \n",
    "    # pack state components\n",
    "    return np.concatenate((x_vgc_next.reshape((1,1)), x_L_next), axis=0)\n",
    "\n",
    "# error readout equation\n",
    "def h(x):\n",
    "    n = len(x)\n",
    "    assert n == 1 + n_L\n",
    "    \n",
    "    x_L = np.dot(np.eye(n-1,n,1), x)\n",
    "    return np.dot(C, x_L)\n",
    "\n",
    "# closed loop state update equation\n",
    "def fcl(x, alpha, dt):\n",
    "    x = x.reshape((n,1))\n",
    "    return f(x, 1 - h(x), alpha, dt)\n",
    "\n",
    "# simulate system\n",
    "t_hist = np.arange(0, 5, dt)\n",
    "x_hist = np.zeros((n, len(t_hist)))\n",
    "x_hist[:,0] = np.zeros((n,))\n",
    "\n",
    "for i, t in enumerate(t_hist[:-1]):\n",
    "    x_hist[:,i+1] = fcl(x_hist[:,i], alpha=alpha, dt=dt).reshape((n,))\n",
    "    \n",
    "# plot output\n",
    "plt.plot(t_hist, 1 - x_hist[0,:])\n",
    "plt.plot([0, t_hist[-1]], [1 + yos_min, 1 + yos_min])\n",
    "plt.xlabel('time (s)')\n",
    "plt.ylabel('output (y)')\n",
    "plt.title('VGC: alpha=%f' % alpha)\n",
    "plt.grid(True)\n",
    "axes = plt.gca()\n",
    "axes.set_ylim([0, 1.6])"
   ]
  },
  {
   "cell_type": "code",
   "execution_count": 22,
   "metadata": {},
   "outputs": [
    {
     "name": "stdout",
     "output_type": "stream",
     "text": [
      "[ -7.68543007e-11   4.29529264e+00   5.36977182e-01   9.93185280e-12\n",
      "   1.62351765e-11  -5.22931817e-12   6.75233011e-13]\n",
      "[  9.99211682e-01  -1.54931921e-02  -8.77129114e-02   2.64931693e-02\n",
      "  -5.30512129e-03   6.85151625e-03  -1.16965307e-04]\n",
      "\n",
      "5000\n",
      "==System A, B, C, D==\n",
      "[[  1.00100050e+00  -8.00302351e-03   0.00000000e+00   0.00000000e+00\n",
      "    0.00000000e+00   0.00000000e+00]\n",
      " [  0.00000000e+00   1.00000000e+00   0.00000000e+00   0.00000000e+00\n",
      "    0.00000000e+00   0.00000000e+00]\n",
      " [  0.00000000e+00   0.00000000e+00   9.60357903e-01   4.63292094e-02\n",
      "    4.31283654e-02  -1.25272062e-02]\n",
      " [  0.00000000e+00   0.00000000e+00  -4.63292094e-02   9.98887064e-01\n",
      "   -1.61488265e-03   5.46378478e-04]\n",
      " [  0.00000000e+00   0.00000000e+00  -4.31283654e-02  -1.61488265e-03\n",
      "    9.21486440e-01   5.93277213e-02]\n",
      " [  0.00000000e+00   0.00000000e+00  -1.25272062e-02  -5.46378478e-04\n",
      "   -5.93277213e-02   8.40958785e-01]]\n",
      "[[ -1.39462978e-03]\n",
      " [ -6.74785426e-03]\n",
      " [  2.27827311e-03]\n",
      " [ -1.61821601e-05]\n",
      " [  1.09897080e-03]\n",
      " [  3.77002210e-04]]\n",
      "[[ 0.31730655 -0.67586574 -2.29974075  0.0381168   1.18140053 -0.46704402]]\n",
      "[[ 0.]]\n",
      "==Singular values==\n",
      "[ 1.00454091  0.99998657  0.99647559  0.96403328  0.92444398  0.84134046]\n",
      "==Eigenvalues==\n",
      "[ 0.90483742 +1.75622739e-07j  0.90483742 -1.75622739e-07j\n",
      "  0.95600768 +4.29257550e-02j  0.95600768 -4.29257550e-02j\n",
      "  1.00100050 +0.00000000e+00j  1.00000000 +0.00000000e+00j]\n",
      "(matrix([[  5.72269069, -13.64275456,  17.34262511, -12.39828757,\n",
      "           4.72626463,  -0.7505383 ],\n",
      "        [  1.        ,   0.        ,   0.        ,   0.        ,\n",
      "           0.        ,   0.        ],\n",
      "        [  0.        ,   1.        ,   0.        ,   0.        ,\n",
      "           0.        ,   0.        ],\n",
      "        [  0.        ,   0.        ,   1.        ,   0.        ,\n",
      "           0.        ,   0.        ],\n",
      "        [  0.        ,   0.        ,   0.        ,   1.        ,\n",
      "           0.        ,   0.        ],\n",
      "        [  0.        ,   0.        ,   0.        ,   0.        ,\n",
      "           1.        ,   0.        ]]), matrix([[ 1.],\n",
      "        [ 0.],\n",
      "        [ 0.],\n",
      "        [ 0.],\n",
      "        [ 0.],\n",
      "        [ 0.]]), matrix([[  3.12106641e-07,   2.64015454e-06,  -3.04493739e-06,\n",
      "          -2.65961370e-06,   2.49240059e-06,   2.60319463e-07]]), matrix([[ 0.]]))\n",
      "6\n"
     ]
    },
    {
     "data": {
      "image/png": "[encoded data removed]",
      "text/plain": [
       "<matplotlib.figure.Figure at 0x106894990>"
      ]
     },
     "metadata": {},
     "output_type": "display_data"
    }
   ],
   "source": [
    "### check that the full state goes to zero\n",
    "plt.plot(t_hist, np.linalg.norm(x_hist, axis=0, ord=2))\n",
    "plt.xlabel('time (s)')\n",
    "plt.ylabel('norm2(x(t))')\n",
    "plt.grid(True)\n",
    "\n",
    "print x_hist[:,-1]\n",
    "print x_hist[:,6]\n",
    "print\n",
    "print len(t_hist)\n",
    "print '==System A, B, C, D=='\n",
    "print A\n",
    "print B\n",
    "print C\n",
    "print D\n",
    "print '==Singular values=='\n",
    "U, S, V = np.linalg.svd(A)\n",
    "print S\n",
    "print '==Eigenvalues=='\n",
    "print np.linalg.eigvals(A)\n",
    "print control.ssdata(control.sample_system(P_tf * C_tf, Ts=dt, method='zoh'))\n",
    "print n_L"
   ]
  }
 ],
 "metadata": {
  "kernelspec": {
   "display_name": "Python 2",
   "language": "python",
   "name": "python2"
  },
  "language_info": {
   "codemirror_mode": {
    "name": "ipython",
    "version": 2
   },
   "file_extension": ".py",
   "mimetype": "text/x-python",
   "name": "python",
   "nbconvert_exporter": "python",
   "pygments_lexer": "ipython2",
   "version": "2.7.13"
  }
 },
 "nbformat": 4,
 "nbformat_minor": 1
}
