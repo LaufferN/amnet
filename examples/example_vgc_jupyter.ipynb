{
 "cells": [
  {
   "cell_type": "code",
   "execution_count": 12,
   "metadata": {
    "collapsed": false
   },
   "outputs": [],
   "source": [
    "import sys\n",
    "if '../' not in sys.path: sys.path.append(\"../\")\n",
    "\n",
    "import numpy as np\n",
    "import amnet\n",
    "\n",
    "\n",
    "def make_vgc(alpha):\n",
    "    # inputs\n",
    "    e_var = amnet.Variable(1, name='e')\n",
    "    edot_var = amnet.Variable(1, name='edot')\n",
    "    x = amnet.stack(e_var, edot_var)\n",
    "\n",
    "    # affine transformations\n",
    "    zero1 = amnet.atoms.make_const(np.zeros(1), x)\n",
    "    ae    = amnet.AffineTransformation(np.array([[alpha, 0]]), x, np.zeros(1))\n",
    "    e     = amnet.AffineTransformation(np.array([[1, 0]]), x, np.zeros(1))\n",
    "    neg_e = amnet.AffineTransformation(np.array([[-1, 0]]), x, np.zeros(1))\n",
    "    edot  = amnet.AffineTransformation(np.array([[0, 1]]), x, np.zeros(1))\n",
    "    neg_edot = amnet.AffineTransformation(np.array([[0, -1]]), x, np.zeros(1))\n",
    "\n",
    "    return amnet.atoms.make_or(\n",
    "        amnet.atoms.make_or(\n",
    "            zero1,\n",
    "            ae,\n",
    "            neg_e,\n",
    "            neg_edot\n",
    "        ),\n",
    "        ae,\n",
    "        e,\n",
    "        edot\n",
    "    )\n",
    "\n",
    "\n",
    "def true_vgc(e, edot, alpha):\n",
    "    if e * edot > 0:\n",
    "        return alpha * e\n",
    "    else:\n",
    "        return 0\n",
    "\n",
    "\n",
    "def test_vgc():\n",
    "    alpha = 1.1\n",
    "    phi_vgc = make_vgc(alpha)\n",
    "\n",
    "    # test that true_vgc and test_vgc return the same evaluation\n",
    "    for e in np.linspace(-2,2,12):\n",
    "        for edot in np.linspace(-2,2,12):\n",
    "            val1 = phi_vgc.eval(np.array([e, edot]))\n",
    "            val2 = true_vgc(e, edot, alpha)\n",
    "            if abs(val1 - val2) > 1e-10:\n",
    "                print 'FAIL: (e,edot) = (%e, %e), val1=%e, val2=%e' % (e, edot, val1, val2)"
   ]
  },
  {
   "cell_type": "code",
   "execution_count": 14,
   "metadata": {
    "collapsed": false
   },
   "outputs": [],
   "source": [
    "test_vgc()"
   ]
  },
  {
   "cell_type": "code",
   "execution_count": 13,
   "metadata": {
    "collapsed": false
   },
   "outputs": [
    {
     "data": {
      "text/plain": [
       "['',\n",
       " '/usr/local/Cellar/python/2.7.11/Frameworks/Python.framework/Versions/2.7/lib/python27.zip',\n",
       " '/usr/local/Cellar/python/2.7.11/Frameworks/Python.framework/Versions/2.7/lib/python2.7',\n",
       " '/usr/local/Cellar/python/2.7.11/Frameworks/Python.framework/Versions/2.7/lib/python2.7/plat-darwin',\n",
       " '/usr/local/Cellar/python/2.7.11/Frameworks/Python.framework/Versions/2.7/lib/python2.7/plat-mac',\n",
       " '/usr/local/Cellar/python/2.7.11/Frameworks/Python.framework/Versions/2.7/lib/python2.7/plat-mac/lib-scriptpackages',\n",
       " '/usr/local/Cellar/python/2.7.11/Frameworks/Python.framework/Versions/2.7/lib/python2.7/lib-tk',\n",
       " '/usr/local/Cellar/python/2.7.11/Frameworks/Python.framework/Versions/2.7/lib/python2.7/lib-old',\n",
       " '/usr/local/Cellar/python/2.7.11/Frameworks/Python.framework/Versions/2.7/lib/python2.7/lib-dynload',\n",
       " '/Users/ipapusha/Library/Python/2.7/lib/python/site-packages',\n",
       " '/usr/local/lib/python2.7/site-packages',\n",
       " '/usr/local/Cellar/numba/0.26.0/libexec/vendor/lib/python2.7/site-packages',\n",
       " '/usr/local/Cellar/numba/0.26.0/libexec/lib/python2.7/site-packages',\n",
       " '/usr/local/Cellar/numpy/1.12.1/libexec/nose/lib/python2.7/site-packages',\n",
       " '/Library/Python/2.7/site-packages',\n",
       " '/usr/local/lib/python2.7/site-packages/IPython/extensions',\n",
       " '/Users/ipapusha/.ipython',\n",
       " '../',\n",
       " '../',\n",
       " '../']"
      ]
     },
     "execution_count": 13,
     "metadata": {},
     "output_type": "execute_result"
    }
   ],
   "source": [
    "sys.path"
   ]
  }
 ],
 "metadata": {
  "kernelspec": {
   "display_name": "Python 2",
   "language": "python",
   "name": "python2"
  },
  "language_info": {
   "codemirror_mode": {
    "name": "ipython",
    "version": 2
   },
   "file_extension": ".py",
   "mimetype": "text/x-python",
   "name": "python",
   "nbconvert_exporter": "python",
   "pygments_lexer": "ipython2",
   "version": "2.7.11"
  }
 },
 "nbformat": 4,
 "nbformat_minor": 1
}
