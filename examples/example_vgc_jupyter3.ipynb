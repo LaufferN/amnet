{
 "cells": [
  {
   "cell_type": "code",
   "execution_count": 1,
   "metadata": {
    "collapsed": true
   },
   "outputs": [],
   "source": [
    "%matplotlib inline \n",
    "\n",
    "from __future__ import division\n",
    "\n",
    "import sys\n",
    "if '../' not in sys.path: sys.path.append(\"../\")\n",
    "\n",
    "import numpy as np\n",
    "import amnet\n",
    "import control \n",
    "\n",
    "import matplotlib\n",
    "import matplotlib.pyplot as plt\n",
    "\n",
    "from scipy.interpolate import interp1d\n",
    "\n",
    "def make_vgc(e, edot, alpha):\n",
    "    assert e.outdim == 1\n",
    "    assert edot.outdim == 1\n",
    "    \n",
    "    zero1 = amnet.Constant(np.zeros(1))\n",
    "    ae    = amnet.AffineTransformation(np.array([[alpha]]), e, np.zeros(1))\n",
    "    neg_e = amnet.AffineTransformation(np.array([[-1]]), e, np.zeros(1))\n",
    "    neg_edot = amnet.AffineTransformation(np.array([[-1]]), edot, np.zeros(1))\n",
    "\n",
    "    return amnet.atoms.make_or(\n",
    "        amnet.atoms.make_or(\n",
    "            zero1,\n",
    "            ae,\n",
    "            neg_e,\n",
    "            neg_edot\n",
    "        ),\n",
    "        ae,\n",
    "        e,\n",
    "        edot\n",
    "    )\n",
    "\n",
    "def make_vgc_system(xsys, alpha=7.0, dt=0.001, ref=1.0):\n",
    "    # get PC linear system data\n",
    "    #A, B, C, D = control.ssdata(control.sample_system(P_tf * C_tf, Ts=dt, method='zoh'))\n",
    "    A = np.genfromtxt('vgc_A.csv', delimiter=',').reshape((6,6))\n",
    "    B = np.genfromtxt('vgc_B.csv', delimiter=',').reshape((6,1))\n",
    "    C = np.genfromtxt('vgc_C.csv', delimiter=',').reshape((1,6))\n",
    "    D = np.genfromtxt('vgc_D.csv', delimiter=',').reshape((1,1))\n",
    "    \n",
    "    # state is xsys = (x_vgc, x_L)\n",
    "    n_L, m_L = B.shape\n",
    "    n = n_L + 1\n",
    "    assert m_L == 1\n",
    "    assert D == 0\n",
    "    \n",
    "    # pick out components\n",
    "    x_vgc = amnet.AffineTransformation(np.eye(1,n,0), xsys, np.zeros(1))\n",
    "    x_L   = amnet.AffineTransformation(np.eye(n-1,n,1), xsys, np.zeros(n-1))\n",
    "    e     = amnet.AffineTransformation(-C, x_L, np.array([ref]))\n",
    "    #edot  = e - x_vgc\n",
    "    edot  = amnet.AffineTransformation(\n",
    "        -np.dot(C, np.eye(n-1,n,1)) - np.eye(1,n,0),\n",
    "        xsys,\n",
    "        np.array([ref])\n",
    "    )\n",
    "    \n",
    "    # compute combined control input\n",
    "    vgc_term = make_vgc(e, edot, alpha)\n",
    "    e_vgc = amnet.atoms.make_add(vgc_term, e)\n",
    "    \n",
    "    # compute next state\n",
    "    Ax_L = amnet.AffineTransformation(A, x_L, np.zeros(n-1))\n",
    "    Be_vgc = amnet.AffineTransformation(B, e_vgc, np.zeros(n-1))\n",
    "    \n",
    "    x_vgc_next = e\n",
    "    x_L_next = amnet.atoms.make_add(Ax_L, Be_vgc)\n",
    "    \n",
    "    # generate the AMN for computing the full state\n",
    "    x_next = amnet.Stack(x_vgc_next, x_L_next)\n",
    "    return x_next\n",
    "\n",
    "def make_vgc_output(xsys, ref):\n",
    "    # get PC linear system data\n",
    "    #A, B, C, D = control.ssdata(control.sample_system(P_tf * C_tf, Ts=dt, method='zoh'))\n",
    "    A = np.genfromtxt('vgc_A.csv', delimiter=',').reshape((6,6))\n",
    "    B = np.genfromtxt('vgc_B.csv', delimiter=',').reshape((6,1))\n",
    "    C = np.genfromtxt('vgc_C.csv', delimiter=',').reshape((1,6))\n",
    "    D = np.genfromtxt('vgc_D.csv', delimiter=',').reshape((1,1))\n",
    "    \n",
    "    # state is xsys = (x_vgc, x_L)\n",
    "    n_L, m_L = B.shape\n",
    "    n = n_L + 1\n",
    "    assert m_L == 1\n",
    "    assert D == 0\n",
    "    \n",
    "    # picks out the error signal\n",
    "    return amnet.AffineTransformation(\n",
    "        -np.dot(C, np.eye(n-1,n,1)),\n",
    "        xsys,\n",
    "        np.array([ref])\n",
    "    )"
   ]
  },
  {
   "cell_type": "code",
   "execution_count": 7,
   "metadata": {},
   "outputs": [],
   "source": [
    "# simulate system\n",
    "alpha = 7.0\n",
    "dt = 0.001\n",
    "ref = 1.0\n",
    "n = 7\n",
    "tr = 0.23 # computed by me\n",
    "#tr = 0.28 # Hunnekens, et al. (2016)\n",
    "p = 1.0\n",
    "yos_min = ((p*tr - 1.)*np.exp(p*tr) + 1.)/(p*tr)\n",
    "\n",
    "# create VGC function\n",
    "xsys = amnet.Variable(n, 'xsys')\n",
    "phi = make_vgc_system(xsys, alpha=alpha, dt=dt, ref=ref)\n",
    "phi_out = make_vgc_output(xsys, ref=ref)\n",
    "\n",
    "t_hist = np.arange(0, 5, dt)\n",
    "x_hist = np.zeros((n, len(t_hist)))\n",
    "x_hist[:,0] = np.zeros((n,)) # initial condition\n",
    "\n",
    "for i, t in enumerate(t_hist[:-1]):\n",
    "    x_hist[:,i+1] = phi.eval(x_hist[:,i]).reshape((n,))\n",
    "\n",
    "y_hist = np.array([phi_out.eval(x_hist[:,i].reshape((n,))) for i in range(len(t_hist))])"
   ]
  },
  {
   "cell_type": "code",
   "execution_count": 10,
   "metadata": {},
   "outputs": [
    {
     "data": {
      "text/plain": [
       "(0, 1.6)"
      ]
     },
     "execution_count": 10,
     "metadata": {},
     "output_type": "execute_result"
    },
    {
     "data": {
      "image/png": "[encoded data removed]",
      "text/plain": [
       "<matplotlib.figure.Figure at 0x7f3df7207550>"
      ]
     },
     "metadata": {},
     "output_type": "display_data"
    }
   ],
   "source": [
    "# plot output\n",
    "plt.plot(t_hist, 1 - y_hist)\n",
    "plt.plot([0, t_hist[-1]], [1 + yos_min, 1 + yos_min])\n",
    "plt.xlabel('time (s)')\n",
    "plt.ylabel('output (y)')\n",
    "plt.title('VGC: alpha=%f' % alpha)\n",
    "plt.grid(True)\n",
    "axes = plt.gca()\n",
    "axes.set_ylim([0, 1.6])"
   ]
  }
 ],
 "metadata": {
  "kernelspec": {
   "display_name": "Python 2",
   "language": "python",
   "name": "python2"
  },
  "language_info": {
   "codemirror_mode": {
    "name": "ipython",
    "version": 2
   },
   "file_extension": ".py",
   "mimetype": "text/x-python",
   "name": "python",
   "nbconvert_exporter": "python",
   "pygments_lexer": "ipython2",
   "version": "2.7.12"
  }
 },
 "nbformat": 4,
 "nbformat_minor": 2
}
